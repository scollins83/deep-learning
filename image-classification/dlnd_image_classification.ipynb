{
 "cells": [
  {
   "cell_type": "markdown",
   "metadata": {
    "collapsed": true,
    "deletable": true,
    "editable": true
   },
   "source": [
    "# Image Classification\n",
    "In this project, you'll classify images from the [CIFAR-10 dataset](https://www.cs.toronto.edu/~kriz/cifar.html).  The dataset consists of airplanes, dogs, cats, and other objects. You'll preprocess the images, then train a convolutional neural network on all the samples. The images need to be normalized and the labels need to be one-hot encoded.  You'll get to apply what you learned and build a convolutional, max pooling, dropout, and fully connected layers.  At the end, you'll get to see your neural network's predictions on the sample images.\n",
    "## Get the Data\n",
    "Run the following cell to download the [CIFAR-10 dataset for python](https://www.cs.toronto.edu/~kriz/cifar-10-python.tar.gz)."
   ]
  },
  {
   "cell_type": "code",
   "execution_count": 3,
   "metadata": {
    "collapsed": false,
    "deletable": true,
    "editable": true
   },
   "outputs": [
    {
     "name": "stdout",
     "output_type": "stream",
     "text": [
      "All files found!\n"
     ]
    }
   ],
   "source": [
    "\"\"\"\n",
    "DON'T MODIFY ANYTHING IN THIS CELL THAT IS BELOW THIS LINE\n",
    "\"\"\"\n",
    "from urllib.request import urlretrieve\n",
    "from os.path import isfile, isdir\n",
    "from tqdm import tqdm\n",
    "import problem_unittests as tests\n",
    "import tarfile\n",
    "\n",
    "cifar10_dataset_folder_path = 'cifar-10-batches-py'\n",
    "\n",
    "# Use Floyd's cifar-10 dataset if present\n",
    "floyd_cifar10_location = '/input/cifar-10/python.tar.gz'\n",
    "if isfile(floyd_cifar10_location):\n",
    "    tar_gz_path = floyd_cifar10_location\n",
    "else:\n",
    "    tar_gz_path = 'cifar-10-python.tar.gz'\n",
    "\n",
    "class DLProgress(tqdm):\n",
    "    last_block = 0\n",
    "\n",
    "    def hook(self, block_num=1, block_size=1, total_size=None):\n",
    "        self.total = total_size\n",
    "        self.update((block_num - self.last_block) * block_size)\n",
    "        self.last_block = block_num\n",
    "\n",
    "if not isfile(tar_gz_path):\n",
    "    with DLProgress(unit='B', unit_scale=True, miniters=1, desc='CIFAR-10 Dataset') as pbar:\n",
    "        urlretrieve(\n",
    "            'https://www.cs.toronto.edu/~kriz/cifar-10-python.tar.gz',\n",
    "            tar_gz_path,\n",
    "            pbar.hook)\n",
    "\n",
    "if not isdir(cifar10_dataset_folder_path):\n",
    "    with tarfile.open(tar_gz_path) as tar:\n",
    "        tar.extractall()\n",
    "        tar.close()\n",
    "\n",
    "\n",
    "tests.test_folder_path(cifar10_dataset_folder_path)"
   ]
  },
  {
   "cell_type": "markdown",
   "metadata": {
    "deletable": true,
    "editable": true
   },
   "source": [
    "## Explore the Data\n",
    "The dataset is broken into batches to prevent your machine from running out of memory.  The CIFAR-10 dataset consists of 5 batches, named `data_batch_1`, `data_batch_2`, etc.. Each batch contains the labels and images that are one of the following:\n",
    "* airplane\n",
    "* automobile\n",
    "* bird\n",
    "* cat\n",
    "* deer\n",
    "* dog\n",
    "* frog\n",
    "* horse\n",
    "* ship\n",
    "* truck\n",
    "\n",
    "Understanding a dataset is part of making predictions on the data.  Play around with the code cell below by changing the `batch_id` and `sample_id`. The `batch_id` is the id for a batch (1-5). The `sample_id` is the id for a image and label pair in the batch.\n",
    "\n",
    "Ask yourself \"What are all possible labels?\", \"What is the range of values for the image data?\", \"Are the labels in order or random?\".  Answers to questions like these will help you preprocess the data and end up with better predictions."
   ]
  },
  {
   "cell_type": "code",
   "execution_count": 4,
   "metadata": {
    "collapsed": false,
    "deletable": true,
    "editable": true
   },
   "outputs": [
    {
     "name": "stdout",
     "output_type": "stream",
     "text": [
      "\n",
      "Stats of batch 1:\n",
      "Samples: 10000\n",
      "Label Counts: {0: 1005, 1: 974, 2: 1032, 3: 1016, 4: 999, 5: 937, 6: 1030, 7: 1001, 8: 1025, 9: 981}\n",
      "First 20 Labels: [6, 9, 9, 4, 1, 1, 2, 7, 8, 3, 4, 7, 7, 2, 9, 9, 9, 3, 2, 6]\n",
      "\n",
      "Example of Image 5:\n",
      "Image - Min Value: 0 Max Value: 252\n",
      "Image - Shape: (32, 32, 3)\n",
      "Label - Label Id: 1 Name: automobile\n"
     ]
    },
    {
     "data": {
      "image/png": "[encoded data removed]",
      "text/plain": [
       "<matplotlib.figure.Figure at 0x10bf46128>"
      ]
     },
     "metadata": {
      "image/png": {
       "height": 250,
       "width": 253
      }
     },
     "output_type": "display_data"
    }
   ],
   "source": [
    "%matplotlib inline\n",
    "%config InlineBackend.figure_format = 'retina'\n",
    "\n",
    "import helper\n",
    "import numpy as np\n",
    "\n",
    "# Explore the dataset\n",
    "batch_id = 1\n",
    "sample_id = 5\n",
    "helper.display_stats(cifar10_dataset_folder_path, batch_id, sample_id)"
   ]
  },
  {
   "cell_type": "markdown",
   "metadata": {
    "deletable": true,
    "editable": true
   },
   "source": [
    "## Implement Preprocess Functions\n",
    "### Normalize\n",
    "In the cell below, implement the `normalize` function to take in image data, `x`, and return it as a normalized Numpy array. The values should be in the range of 0 to 1, inclusive.  The return object should be the same shape as `x`."
   ]
  },
  {
   "cell_type": "code",
   "execution_count": 5,
   "metadata": {
    "collapsed": false,
    "deletable": true,
    "editable": true
   },
   "outputs": [
    {
     "name": "stdout",
     "output_type": "stream",
     "text": [
      "Tests Passed\n"
     ]
    }
   ],
   "source": [
    "def normalize(x):\n",
    "    \"\"\"\n",
    "    Normalize a list of sample image data in the range of 0 to 1\n",
    "    : x: List of image data.  The image shape is (32, 32, 3)\n",
    "    : return: Numpy array of normalize data\n",
    "    \"\"\"\n",
    "    # TODO: Implement Function\n",
    "    return x/255\n",
    "\n",
    "\n",
    "\"\"\"\n",
    "DON'T MODIFY ANYTHING IN THIS CELL THAT IS BELOW THIS LINE\n",
    "\"\"\"\n",
    "tests.test_normalize(normalize)"
   ]
  },
  {
   "cell_type": "markdown",
   "metadata": {
    "deletable": true,
    "editable": true
   },
   "source": [
    "### One-hot encode\n",
    "Just like the previous code cell, you'll be implementing a function for preprocessing.  This time, you'll implement the `one_hot_encode` function. The input, `x`, are a list of labels.  Implement the function to return the list of labels as One-Hot encoded Numpy array.  The possible values for labels are 0 to 9. The one-hot encoding function should return the same encoding for each value between each call to `one_hot_encode`.  Make sure to save the map of encodings outside the function.\n",
    "\n",
    "Hint: Don't reinvent the wheel."
   ]
  },
  {
   "cell_type": "code",
   "execution_count": 25,
   "metadata": {
    "collapsed": false
   },
   "outputs": [],
   "source": [
    "# Programmatically set the number of labels, so it isn't necessary to hardcode number of labels.\n",
    "global n_labels\n",
    "n_labels = len(helper._load_label_names())"
   ]
  },
  {
   "cell_type": "code",
   "execution_count": 26,
   "metadata": {
    "collapsed": false,
    "deletable": true,
    "editable": true
   },
   "outputs": [
    {
     "name": "stdout",
     "output_type": "stream",
     "text": [
      "Tests Passed\n"
     ]
    }
   ],
   "source": [
    "def one_hot_encode(x):\n",
    "    \"\"\"\n",
    "    One hot encode a list of sample labels. Return a one-hot encoded vector for each label.\n",
    "    : x: List of sample Labels\n",
    "    : return: Numpy array of one-hot encoded labels\n",
    "    \"\"\"\n",
    "    #from sklearn.preprocessing import OneHotEncoder\n",
    "    from sklearn.preprocessing import LabelBinarizer\n",
    "    # TODO: Implement Function\n",
    "    #enc = OneHotEncoder()\n",
    "    enc = LabelBinarizer()\n",
    "    #encoding = enc.fit_transform(np.array(x).reshape(-1,1)).toarray()\n",
    "    enc.fit(range(n_labels))\n",
    "    return enc.transform(x)\n",
    "\n",
    "\n",
    "\"\"\"\n",
    "DON'T MODIFY ANYTHING IN THIS CELL THAT IS BELOW THIS LINE\n",
    "\"\"\"\n",
    "tests.test_one_hot_encode(one_hot_encode)"
   ]
  },
  {
   "cell_type": "markdown",
   "metadata": {
    "deletable": true,
    "editable": true
   },
   "source": [
    "### Randomize Data\n",
    "As you saw from exploring the data above, the order of the samples are randomized.  It doesn't hurt to randomize it again, but you don't need to for this dataset."
   ]
  },
  {
   "cell_type": "markdown",
   "metadata": {
    "deletable": true,
    "editable": true
   },
   "source": [
    "## Preprocess all the data and save it\n",
    "Running the code cell below will preprocess all the CIFAR-10 data and save it to file. The code below also uses 10% of the training data for validation."
   ]
  },
  {
   "cell_type": "code",
   "execution_count": 29,
   "metadata": {
    "collapsed": false,
    "deletable": true,
    "editable": true
   },
   "outputs": [],
   "source": [
    "\"\"\"\n",
    "DON'T MODIFY ANYTHING IN THIS CELL\n",
    "\"\"\"\n",
    "# Preprocess Training, Validation, and Testing Data\n",
    "helper.preprocess_and_save_data(cifar10_dataset_folder_path, normalize, one_hot_encode)"
   ]
  },
  {
   "cell_type": "markdown",
   "metadata": {
    "deletable": true,
    "editable": true
   },
   "source": [
    "# Check Point\n",
    "This is your first checkpoint.  If you ever decide to come back to this notebook or have to restart the notebook, you can start from here.  The preprocessed data has been saved to disk."
   ]
  },
  {
   "cell_type": "code",
   "execution_count": 30,
   "metadata": {
    "collapsed": true,
    "deletable": true,
    "editable": true
   },
   "outputs": [],
   "source": [
    "\"\"\"\n",
    "DON'T MODIFY ANYTHING IN THIS CELL\n",
    "\"\"\"\n",
    "import pickle\n",
    "import problem_unittests as tests\n",
    "import helper\n",
    "\n",
    "# Load the Preprocessed Validation data\n",
    "valid_features, valid_labels = pickle.load(open('preprocess_validation.p', mode='rb'))"
   ]
  },
  {
   "cell_type": "markdown",
   "metadata": {
    "deletable": true,
    "editable": true
   },
   "source": [
    "## Build the network\n",
    "For the neural network, you'll build each layer into a function.  Most of the code you've seen has been outside of functions. To test your code more thoroughly, we require that you put each layer in a function.  This allows us to give you better feedback and test for simple mistakes using our unittests before you submit your project.\n",
    "\n",
    ">**Note:** If you're finding it hard to dedicate enough time for this course each week, we've provided a small shortcut to this part of the project. In the next couple of problems, you'll have the option to use classes from the [TensorFlow Layers](https://www.tensorflow.org/api_docs/python/tf/layers) or [TensorFlow Layers (contrib)](https://www.tensorflow.org/api_guides/python/contrib.layers) packages to build each layer, except the layers you build in the \"Convolutional and Max Pooling Layer\" section.  TF Layers is similar to Keras's and TFLearn's abstraction to layers, so it's easy to pickup.\n",
    "\n",
    ">However, if you would like to get the most out of this course, try to solve all the problems _without_ using anything from the TF Layers packages. You **can** still use classes from other packages that happen to have the same name as ones you find in TF Layers! For example, instead of using the TF Layers version of the `conv2d` class, [tf.layers.conv2d](https://www.tensorflow.org/api_docs/python/tf/layers/conv2d), you would want to use the TF Neural Network version of `conv2d`, [tf.nn.conv2d](https://www.tensorflow.org/api_docs/python/tf/nn/conv2d). \n",
    "\n",
    "Let's begin!\n",
    "\n",
    "### Input\n",
    "The neural network needs to read the image data, one-hot encoded labels, and dropout keep probability. Implement the following functions\n",
    "* Implement `neural_net_image_input`\n",
    " * Return a [TF Placeholder](https://www.tensorflow.org/api_docs/python/tf/placeholder)\n",
    " * Set the shape using `image_shape` with batch size set to `None`.\n",
    " * Name the TensorFlow placeholder \"x\" using the TensorFlow `name` parameter in the [TF Placeholder](https://www.tensorflow.org/api_docs/python/tf/placeholder).\n",
    "* Implement `neural_net_label_input`\n",
    " * Return a [TF Placeholder](https://www.tensorflow.org/api_docs/python/tf/placeholder)\n",
    " * Set the shape using `n_classes` with batch size set to `None`.\n",
    " * Name the TensorFlow placeholder \"y\" using the TensorFlow `name` parameter in the [TF Placeholder](https://www.tensorflow.org/api_docs/python/tf/placeholder).\n",
    "* Implement `neural_net_keep_prob_input`\n",
    " * Return a [TF Placeholder](https://www.tensorflow.org/api_docs/python/tf/placeholder) for dropout keep probability.\n",
    " * Name the TensorFlow placeholder \"keep_prob\" using the TensorFlow `name` parameter in the [TF Placeholder](https://www.tensorflow.org/api_docs/python/tf/placeholder).\n",
    "\n",
    "These names will be used at the end of the project to load your saved model.\n",
    "\n",
    "Note: `None` for shapes in TensorFlow allow for a dynamic size."
   ]
  },
  {
   "cell_type": "code",
   "execution_count": 44,
   "metadata": {
    "collapsed": false,
    "deletable": true,
    "editable": true
   },
   "outputs": [
    {
     "name": "stdout",
     "output_type": "stream",
     "text": [
      "Image Input Tests Passed.\n",
      "Label Input Tests Passed.\n",
      "Keep Prob Tests Passed.\n"
     ]
    }
   ],
   "source": [
    "import tensorflow as tf\n",
    "\n",
    "def neural_net_image_input(image_shape):\n",
    "    \"\"\"\n",
    "    Return a Tensor for a batch of image input\n",
    "    : image_shape: Shape of the images\n",
    "    : return: Tensor for image input.\n",
    "    \"\"\"\n",
    "    # TODO: Implement Function\n",
    "    return tf.placeholder(tf.float32, shape=[None, image_shape[0], image_shape[1], image_shape[2]], name='x')\n",
    "\n",
    "\n",
    "def neural_net_label_input(n_classes):\n",
    "    \"\"\"\n",
    "    Return a Tensor for a batch of label input\n",
    "    : n_classes: Number of classes\n",
    "    : return: Tensor for label input.\n",
    "    \"\"\"\n",
    "    # TODO: Implement Function\n",
    "    return tf.placeholder(tf.float32, shape=[None, n_classes], name='y')\n",
    "\n",
    "def neural_net_keep_prob_input():\n",
    "    \"\"\"\n",
    "    Return a Tensor for keep probability\n",
    "    : return: Tensor for keep probability.\n",
    "    \"\"\"\n",
    "    # TODO: Implement Function\n",
    "    return tf.placeholder(tf.float32, name='keep_prob')\n",
    "\n",
    "\n",
    "\"\"\"\n",
    "DON'T MODIFY ANYTHING IN THIS CELL THAT IS BELOW THIS LINE\n",
    "\"\"\"\n",
    "tf.reset_default_graph()\n",
    "tests.test_nn_image_inputs(neural_net_image_input)\n",
    "tests.test_nn_label_inputs(neural_net_label_input)\n",
    "tests.test_nn_keep_prob_inputs(neural_net_keep_prob_input)"
   ]
  },
  {
   "cell_type": "markdown",
   "metadata": {
    "deletable": true,
    "editable": true
   },
   "source": [
    "### Convolution and Max Pooling Layer\n",
    "Convolution layers have a lot of success with images. For this code cell, you should implement the function `conv2d_maxpool` to apply convolution then max pooling:\n",
    "* Create the weight and bias using `conv_ksize`, `conv_num_outputs` and the shape of `x_tensor`.\n",
    "* Apply a convolution to `x_tensor` using weight and `conv_strides`.\n",
    " * We recommend you use same padding, but you're welcome to use any padding.\n",
    "* Add bias\n",
    "* Add a nonlinear activation to the convolution.\n",
    "* Apply Max Pooling using `pool_ksize` and `pool_strides`.\n",
    " * We recommend you use same padding, but you're welcome to use any padding.\n",
    "\n",
    "**Note:** You **can't** use [TensorFlow Layers](https://www.tensorflow.org/api_docs/python/tf/layers) or [TensorFlow Layers (contrib)](https://www.tensorflow.org/api_guides/python/contrib.layers) for **this** layer, but you can still use TensorFlow's [Neural Network](https://www.tensorflow.org/api_docs/python/tf/nn) package. You may still use the shortcut option for all the **other** layers."
   ]
  },
  {
   "cell_type": "code",
   "execution_count": 45,
   "metadata": {
    "collapsed": false,
    "deletable": true,
    "editable": true
   },
   "outputs": [
    {
     "name": "stdout",
     "output_type": "stream",
     "text": [
      "Tests Passed\n"
     ]
    }
   ],
   "source": [
    "def conv2d_maxpool(x_tensor, conv_num_outputs, conv_ksize, conv_strides, pool_ksize, pool_strides):\n",
    "    \"\"\"\n",
    "    Apply convolution then max pooling to x_tensor\n",
    "    :param x_tensor: TensorFlow Tensor\n",
    "    :param conv_num_outputs: Number of outputs for the convolutional layer\n",
    "    :param conv_ksize: kernal size 2-D Tuple for the convolutional layer\n",
    "    :param conv_strides: Stride 2-D Tuple for convolution\n",
    "    :param pool_ksize: kernal size 2-D Tuple for pool\n",
    "    :param pool_strides: Stride 2-D Tuple for pool\n",
    "    : return: A tensor that represents convolution and max pooling of x_tensor\n",
    "    \"\"\"\n",
    "    # TODO: Implement Function\n",
    "    # Apply convolution\n",
    "    #F_W = tf.Variable(tf.random_normal((x_tensor.shape, conv_num_outputs)))\n",
    "    F_W = tf.Variable(tf.random_normal([conv_ksize[0],\n",
    "                                        conv_ksize[1], \n",
    "                                        x_tensor.get_shape()[3].value, \n",
    "                                        conv_num_outputs],\n",
    "                                       stddev=0.01))\n",
    "    F_b = tf.Variable(tf.zeros(conv_num_outputs))\n",
    "    padding = 'SAME'\n",
    "    \n",
    "    # Turn into a convolution and add the bias at the end. \n",
    "    conv = tf.nn.conv2d(x_tensor, F_W, strides = [1, conv_strides[0], \n",
    "                                                  conv_strides[1], 1], \n",
    "                        padding=padding) + F_b\n",
    "    # Add a non-linear activation function to the convolution\n",
    "    conv = tf.nn.relu(conv)\n",
    "    \n",
    "    # Apply max pooling\n",
    "    return tf.nn.max_pool(conv, \n",
    "                          [1, pool_ksize[0], pool_ksize[1], 1],\n",
    "                          [1, pool_strides[0], pool_strides[1], 1],\n",
    "                          padding, name='max')\n",
    "\n",
    "\"\"\"\n",
    "DON'T MODIFY ANYTHING IN THIS CELL THAT IS BELOW THIS LINE\n",
    "\"\"\"\n",
    "tests.test_con_pool(conv2d_maxpool)"
   ]
  },
  {
   "cell_type": "markdown",
   "metadata": {
    "deletable": true,
    "editable": true
   },
   "source": [
    "### Flatten Layer\n",
    "Implement the `flatten` function to change the dimension of `x_tensor` from a 4-D tensor to a 2-D tensor.  The output should be the shape (*Batch Size*, *Flattened Image Size*). Shortcut option: you can use classes from the [TensorFlow Layers](https://www.tensorflow.org/api_docs/python/tf/layers) or [TensorFlow Layers (contrib)](https://www.tensorflow.org/api_guides/python/contrib.layers) packages for this layer. For more of a challenge, only use other TensorFlow packages."
   ]
  },
  {
   "cell_type": "code",
   "execution_count": 46,
   "metadata": {
    "collapsed": false,
    "deletable": true,
    "editable": true
   },
   "outputs": [
    {
     "name": "stdout",
     "output_type": "stream",
     "text": [
      "Tests Passed\n"
     ]
    }
   ],
   "source": [
    "def flatten(x_tensor):\n",
    "    \"\"\"\n",
    "    Flatten x_tensor to (Batch Size, Flattened Image Size)\n",
    "    : x_tensor: A tensor of size (Batch Size, ...), where ... are the image dimensions.\n",
    "    : return: A tensor of size (Batch Size, Flattened Image Size).\n",
    "    \"\"\"\n",
    "    # TODO: Implement Function\n",
    "    #return tf.reshape(x_tensor, [x_tensor.get_shape()[1].value, x_tensor.get_shape()[2].value])\n",
    "    return tf.contrib.layers.flatten(x_tensor)\n",
    "\n",
    "\"\"\"\n",
    "DON'T MODIFY ANYTHING IN THIS CELL THAT IS BELOW THIS LINE\n",
    "\"\"\"\n",
    "tests.test_flatten(flatten)"
   ]
  },
  {
   "cell_type": "markdown",
   "metadata": {
    "deletable": true,
    "editable": true
   },
   "source": [
    "### Fully-Connected Layer\n",
    "Implement the `fully_conn` function to apply a fully connected layer to `x_tensor` with the shape (*Batch Size*, *num_outputs*). Shortcut option: you can use classes from the [TensorFlow Layers](https://www.tensorflow.org/api_docs/python/tf/layers) or [TensorFlow Layers (contrib)](https://www.tensorflow.org/api_guides/python/contrib.layers) packages for this layer. For more of a challenge, only use other TensorFlow packages."
   ]
  },
  {
   "cell_type": "code",
   "execution_count": 47,
   "metadata": {
    "collapsed": false,
    "deletable": true,
    "editable": true
   },
   "outputs": [
    {
     "name": "stdout",
     "output_type": "stream",
     "text": [
      "Tests Passed\n"
     ]
    }
   ],
   "source": [
    "def fully_conn(x_tensor, num_outputs):\n",
    "    \"\"\"\n",
    "    Apply a fully connected layer to x_tensor using weight and bias\n",
    "    : x_tensor: A 2-D tensor where the first dimension is batch size.\n",
    "    : num_outputs: The number of output that the new tensor should be.\n",
    "    : return: A 2-D tensor where the second dimension is num_outputs.\n",
    "    \"\"\"\n",
    "    # TODO: Implement Function\n",
    "    #fc = tf.reshape(x_tensor, [-1, x_tensor.get_shape().as_list()[1]])\n",
    "    #fc = tf.add(tf.matmul(fc, x_tensor))\n",
    "    return tf.contrib.layers.fully_connected(inputs=x_tensor, num_outputs=num_outputs, activation_fn=tf.nn.relu)\n",
    "\n",
    "\n",
    "\"\"\"\n",
    "DON'T MODIFY ANYTHING IN THIS CELL THAT IS BELOW THIS LINE\n",
    "\"\"\"\n",
    "tests.test_fully_conn(fully_conn)"
   ]
  },
  {
   "cell_type": "markdown",
   "metadata": {
    "deletable": true,
    "editable": true
   },
   "source": [
    "### Output Layer\n",
    "Implement the `output` function to apply a fully connected layer to `x_tensor` with the shape (*Batch Size*, *num_outputs*). Shortcut option: you can use classes from the [TensorFlow Layers](https://www.tensorflow.org/api_docs/python/tf/layers) or [TensorFlow Layers (contrib)](https://www.tensorflow.org/api_guides/python/contrib.layers) packages for this layer. For more of a challenge, only use other TensorFlow packages.\n",
    "\n",
    "**Note:** Activation, softmax, or cross entropy should **not** be applied to this."
   ]
  },
  {
   "cell_type": "code",
   "execution_count": 35,
   "metadata": {
    "collapsed": false,
    "deletable": true,
    "editable": true
   },
   "outputs": [
    {
     "name": "stdout",
     "output_type": "stream",
     "text": [
      "Tests Passed\n"
     ]
    }
   ],
   "source": [
    "def output(x_tensor, num_outputs):\n",
    "    \"\"\"\n",
    "    Apply a output layer to x_tensor using weight and bias\n",
    "    : x_tensor: A 2-D tensor where the first dimension is batch size.\n",
    "    : num_outputs: The number of output that the new tensor should be.\n",
    "    : return: A 2-D tensor where the second dimension is num_outputs.\n",
    "    \"\"\"\n",
    "    # TODO: Implement Function\n",
    "    #return tf.contrib.layers.fully_connected(x_tensor, num_outputs)\n",
    "    return tf.contrib.layers.fully_connected(x_tensor, num_outputs, activation_fn=None)\n",
    "\n",
    "\n",
    "\"\"\"\n",
    "DON'T MODIFY ANYTHING IN THIS CELL THAT IS BELOW THIS LINE\n",
    "\"\"\"\n",
    "tests.test_output(output)"
   ]
  },
  {
   "cell_type": "markdown",
   "metadata": {
    "deletable": true,
    "editable": true
   },
   "source": [
    "### Create Convolutional Model\n",
    "Implement the function `conv_net` to create a convolutional neural network model. The function takes in a batch of images, `x`, and outputs logits.  Use the layers you created above to create this model:\n",
    "\n",
    "* Apply 1, 2, or 3 Convolution and Max Pool layers\n",
    "* Apply a Flatten Layer\n",
    "* Apply 1, 2, or 3 Fully Connected Layers\n",
    "* Apply an Output Layer\n",
    "* Return the output\n",
    "* Apply [TensorFlow's Dropout](https://www.tensorflow.org/api_docs/python/tf/nn/dropout) to one or more layers in the model using `keep_prob`. "
   ]
  },
  {
   "cell_type": "code",
   "execution_count": 52,
   "metadata": {
    "collapsed": false,
    "deletable": true,
    "editable": true
   },
   "outputs": [
    {
     "name": "stdout",
     "output_type": "stream",
     "text": [
      "Neural Network Built!\n"
     ]
    }
   ],
   "source": [
    "def conv_net(x, keep_prob):\n",
    "    \"\"\"\n",
    "    Create a convolutional neural network model\n",
    "    : x: Placeholder tensor that holds image data.\n",
    "    : keep_prob: Placeholder tensor that hold dropout keep probability.\n",
    "    : return: Tensor that represents logits\n",
    "    \"\"\"\n",
    "    # TODO: Apply 1, 2, or 3 Convolution and Max Pool layers\n",
    "    #    Play around with different number of outputs, kernel size and stride\n",
    "    # Function Definition from Above:\n",
    "    #    conv2d_maxpool(x_tensor, conv_num_outputs, conv_ksize, conv_strides, pool_ksize, pool_strides)\n",
    "    conv_mp_1 = conv2d_maxpool(x, 10, [2,2], [1,4,4,1], [1,2,2,1], [1,2,2,1])\n",
    "\n",
    "    # TODO: Apply a Flatten Layer\n",
    "    # Function Definition from Above:\n",
    "    #   flatten(x_tensor)\n",
    "    z = flatten(conv_mp_1)\n",
    "    \n",
    "\n",
    "    # TODO: Apply 1, 2, or 3 Fully Connected Layers\n",
    "    #    Play around with different number of outputs\n",
    "    # Function Definition from Above:\n",
    "    #   fully_conn(x_tensor, num_outputs)\n",
    "    m = fully_conn(z, 256)\n",
    "    \n",
    "    # TODO: Apply an Output Layer\n",
    "    #    Set this to the number of classes\n",
    "    # Function Definition from Above:\n",
    "    #   output(x_tensor, num_outputs)\n",
    "    output_layer = output(m, 10)\n",
    "    \n",
    "    \n",
    "    # TODO: return output\n",
    "    return output_layer\n",
    "\n",
    "\n",
    "\"\"\"\n",
    "DON'T MODIFY ANYTHING IN THIS CELL THAT IS BELOW THIS LINE\n",
    "\"\"\"\n",
    "\n",
    "##############################\n",
    "## Build the Neural Network ##\n",
    "##############################\n",
    "\n",
    "# Remove previous weights, bias, inputs, etc..\n",
    "tf.reset_default_graph()\n",
    "\n",
    "# Inputs\n",
    "x = neural_net_image_input((32, 32, 3))\n",
    "y = neural_net_label_input(10)\n",
    "keep_prob = tf.nn.dropout(neural_net_keep_prob_input(), keep_probability)\n",
    "\n",
    "# Model\n",
    "logits = conv_net(x, keep_prob)\n",
    "\n",
    "# Name logits Tensor, so that is can be loaded from disk after training\n",
    "logits = tf.identity(logits, name='logits')\n",
    "\n",
    "# Loss and Optimizer\n",
    "cost = tf.reduce_mean(tf.nn.softmax_cross_entropy_with_logits(logits=logits, labels=y))\n",
    "optimizer = tf.train.AdamOptimizer().minimize(cost)\n",
    "\n",
    "# Accuracy\n",
    "correct_pred = tf.equal(tf.argmax(logits, 1), tf.argmax(y, 1))\n",
    "accuracy = tf.reduce_mean(tf.cast(correct_pred, tf.float32), name='accuracy')\n",
    "\n",
    "tests.test_conv_net(conv_net)"
   ]
  },
  {
   "cell_type": "markdown",
   "metadata": {
    "deletable": true,
    "editable": true
   },
   "source": [
    "## Train the Neural Network\n",
    "### Single Optimization\n",
    "Implement the function `train_neural_network` to do a single optimization.  The optimization should use `optimizer` to optimize in `session` with a `feed_dict` of the following:\n",
    "* `x` for image input\n",
    "* `y` for labels\n",
    "* `keep_prob` for keep probability for dropout\n",
    "\n",
    "This function will be called for each batch, so `tf.global_variables_initializer()` has already been called.\n",
    "\n",
    "Note: Nothing needs to be returned. This function is only optimizing the neural network."
   ]
  },
  {
   "cell_type": "code",
   "execution_count": 53,
   "metadata": {
    "collapsed": false,
    "deletable": true,
    "editable": true
   },
   "outputs": [
    {
     "name": "stdout",
     "output_type": "stream",
     "text": [
      "Tests Passed\n"
     ]
    }
   ],
   "source": [
    "def train_neural_network(session, optimizer, keep_probability, feature_batch, label_batch):\n",
    "    \"\"\"\n",
    "    Optimize the session on a batch of images and labels\n",
    "    : session: Current TensorFlow session\n",
    "    : optimizer: TensorFlow optimizer function\n",
    "    : keep_probability: keep probability\n",
    "    : feature_batch: Batch of Numpy image data\n",
    "    : label_batch: Batch of Numpy label data\n",
    "    \"\"\"\n",
    "    # TODO: Implement Function\n",
    "    feed = {x: feature_batch,\n",
    "            y: label_batch,\n",
    "            keep_prob: keep_probability}\n",
    "    \n",
    "    _ = session.run([optimizer], feed_dict=feed)\n",
    "\n",
    "\n",
    "\"\"\"\n",
    "DON'T MODIFY ANYTHING IN THIS CELL THAT IS BELOW THIS LINE\n",
    "\"\"\"\n",
    "tests.test_train_nn(train_neural_network)"
   ]
  },
  {
   "cell_type": "markdown",
   "metadata": {
    "deletable": true,
    "editable": true
   },
   "source": [
    "### Show Stats\n",
    "Implement the function `print_stats` to print loss and validation accuracy.  Use the global variables `valid_features` and `valid_labels` to calculate validation accuracy.  Use a keep probability of `1.0` to calculate the loss and validation accuracy."
   ]
  },
  {
   "cell_type": "code",
   "execution_count": 54,
   "metadata": {
    "collapsed": false,
    "deletable": true,
    "editable": true
   },
   "outputs": [],
   "source": [
    "def print_stats(session, feature_batch, label_batch, cost, accuracy):\n",
    "    \"\"\"\n",
    "    Print information about loss and validation accuracy\n",
    "    : session: Current TensorFlow session\n",
    "    : feature_batch: Batch of Numpy image data\n",
    "    : label_batch: Batch of Numpy label data\n",
    "    : cost: TensorFlow cost function\n",
    "    : accuracy: TensorFlow accuracy function\n",
    "    \"\"\"\n",
    "    # TODO: Implement Function\n",
    "    loss = session.run(cost, feed_dict={x: feature_batch, y: label_batch, keep_prob: 1.0})\n",
    "    acc = session.run(accuracy, feed_dict={x: valid_features, y: valid_labels, keep_prob: 1.0})\n",
    "    print('Acc: {:.6f} Loss: {:.6f}'.format(acc, loss))"
   ]
  },
  {
   "cell_type": "markdown",
   "metadata": {
    "deletable": true,
    "editable": true
   },
   "source": [
    "### Hyperparameters\n",
    "Tune the following parameters:\n",
    "* Set `epochs` to the number of iterations until the network stops learning or start overfitting\n",
    "* Set `batch_size` to the highest number that your machine has memory for.  Most people set them to common sizes of memory:\n",
    " * 64\n",
    " * 128\n",
    " * 256\n",
    " * ...\n",
    "* Set `keep_probability` to the probability of keeping a node using dropout"
   ]
  },
  {
   "cell_type": "code",
   "execution_count": 55,
   "metadata": {
    "collapsed": true,
    "deletable": true,
    "editable": true
   },
   "outputs": [],
   "source": [
    "# TODO: Tune Parameters\n",
    "epochs = 25\n",
    "batch_size = 256\n",
    "keep_probability = .8"
   ]
  },
  {
   "cell_type": "markdown",
   "metadata": {
    "deletable": true,
    "editable": true
   },
   "source": [
    "### Train on a Single CIFAR-10 Batch\n",
    "Instead of training the neural network on all the CIFAR-10 batches of data, let's use a single batch. This should save time while you iterate on the model to get a better accuracy.  Once the final validation accuracy is 50% or greater, run the model on all the data in the next section."
   ]
  },
  {
   "cell_type": "code",
   "execution_count": 56,
   "metadata": {
    "collapsed": false,
    "deletable": true,
    "editable": true
   },
   "outputs": [
    {
     "name": "stdout",
     "output_type": "stream",
     "text": [
      "Checking the Training on a Single Batch...\n",
      "Epoch  1, CIFAR-10 Batch 1:  Acc: 0.265400 Loss: 2.175611\n",
      "Epoch  2, CIFAR-10 Batch 1:  Acc: 0.324800 Loss: 2.099202\n",
      "Epoch  3, CIFAR-10 Batch 1:  Acc: 0.352200 Loss: 2.005660\n",
      "Epoch  4, CIFAR-10 Batch 1:  Acc: 0.369400 Loss: 1.896740\n",
      "Epoch  5, CIFAR-10 Batch 1:  Acc: 0.383600 Loss: 1.804619\n",
      "Epoch  6, CIFAR-10 Batch 1:  Acc: 0.391800 Loss: 1.722337\n",
      "Epoch  7, CIFAR-10 Batch 1:  Acc: 0.399800 Loss: 1.650528\n",
      "Epoch  8, CIFAR-10 Batch 1:  Acc: 0.408000 Loss: 1.588544\n",
      "Epoch  9, CIFAR-10 Batch 1:  Acc: 0.417800 Loss: 1.537089\n",
      "Epoch 10, CIFAR-10 Batch 1:  Acc: 0.421800 Loss: 1.487688\n",
      "Epoch 11, CIFAR-10 Batch 1:  Acc: 0.424400 Loss: 1.439460\n",
      "Epoch 12, CIFAR-10 Batch 1:  Acc: 0.428000 Loss: 1.393013\n",
      "Epoch 13, CIFAR-10 Batch 1:  Acc: 0.432200 Loss: 1.355367\n",
      "Epoch 14, CIFAR-10 Batch 1:  Acc: 0.437400 Loss: 1.307591\n",
      "Epoch 15, CIFAR-10 Batch 1:  Acc: 0.445600 Loss: 1.267986\n",
      "Epoch 16, CIFAR-10 Batch 1:  Acc: 0.450400 Loss: 1.216686\n",
      "Epoch 17, CIFAR-10 Batch 1:  Acc: 0.457600 Loss: 1.170389\n",
      "Epoch 18, CIFAR-10 Batch 1:  Acc: 0.459800 Loss: 1.122872\n",
      "Epoch 19, CIFAR-10 Batch 1:  Acc: 0.461200 Loss: 1.074729\n",
      "Epoch 20, CIFAR-10 Batch 1:  Acc: 0.466000 Loss: 1.029939\n",
      "Epoch 21, CIFAR-10 Batch 1:  Acc: 0.470600 Loss: 0.988467\n",
      "Epoch 22, CIFAR-10 Batch 1:  Acc: 0.470200 Loss: 0.941124\n",
      "Epoch 23, CIFAR-10 Batch 1:  Acc: 0.474200 Loss: 0.900730\n",
      "Epoch 24, CIFAR-10 Batch 1:  Acc: 0.480000 Loss: 0.859831\n",
      "Epoch 25, CIFAR-10 Batch 1:  Acc: 0.483000 Loss: 0.820071\n"
     ]
    }
   ],
   "source": [
    "\"\"\"\n",
    "DON'T MODIFY ANYTHING IN THIS CELL\n",
    "\"\"\"\n",
    "print('Checking the Training on a Single Batch...')\n",
    "with tf.Session() as sess:\n",
    "    # Initializing the variables\n",
    "    sess.run(tf.global_variables_initializer())\n",
    "    \n",
    "    # Training cycle\n",
    "    for epoch in range(epochs):\n",
    "        batch_i = 1\n",
    "        for batch_features, batch_labels in helper.load_preprocess_training_batch(batch_i, batch_size):\n",
    "            train_neural_network(sess, optimizer, keep_probability, batch_features, batch_labels)\n",
    "        print('Epoch {:>2}, CIFAR-10 Batch {}:  '.format(epoch + 1, batch_i), end='')\n",
    "        print_stats(sess, batch_features, batch_labels, cost, accuracy)"
   ]
  },
  {
   "cell_type": "markdown",
   "metadata": {
    "deletable": true,
    "editable": true
   },
   "source": [
    "### Fully Train the Model\n",
    "Now that you got a good accuracy with a single CIFAR-10 batch, try it with all five batches."
   ]
  },
  {
   "cell_type": "code",
   "execution_count": 57,
   "metadata": {
    "collapsed": false,
    "deletable": true,
    "editable": true,
    "scrolled": true
   },
   "outputs": [
    {
     "name": "stdout",
     "output_type": "stream",
     "text": [
      "Training...\n",
      "Epoch  1, CIFAR-10 Batch 1:  Acc: 0.248800 Loss: 2.210469\n",
      "Epoch  1, CIFAR-10 Batch 2:  Acc: 0.281600 Loss: 2.075466\n",
      "Epoch  1, CIFAR-10 Batch 3:  Acc: 0.303200 Loss: 1.797875\n",
      "Epoch  1, CIFAR-10 Batch 4:  Acc: 0.319200 Loss: 1.917313\n",
      "Epoch  1, CIFAR-10 Batch 5:  Acc: 0.341800 Loss: 1.990667\n",
      "Epoch  2, CIFAR-10 Batch 1:  Acc: 0.366400 Loss: 2.087808\n",
      "Epoch  2, CIFAR-10 Batch 2:  Acc: 0.358400 Loss: 1.783115\n",
      "Epoch  2, CIFAR-10 Batch 3:  Acc: 0.381600 Loss: 1.482229\n",
      "Epoch  2, CIFAR-10 Batch 4:  Acc: 0.387200 Loss: 1.649848\n",
      "Epoch  2, CIFAR-10 Batch 5:  Acc: 0.396800 Loss: 1.876024\n",
      "Epoch  3, CIFAR-10 Batch 1:  Acc: 0.407600 Loss: 1.891089\n",
      "Epoch  3, CIFAR-10 Batch 2:  Acc: 0.403800 Loss: 1.588596\n",
      "Epoch  3, CIFAR-10 Batch 3:  Acc: 0.406000 Loss: 1.309451\n",
      "Epoch  3, CIFAR-10 Batch 4:  Acc: 0.413800 Loss: 1.534219\n",
      "Epoch  3, CIFAR-10 Batch 5:  Acc: 0.426000 Loss: 1.790437\n",
      "Epoch  4, CIFAR-10 Batch 1:  Acc: 0.428000 Loss: 1.777958\n",
      "Epoch  4, CIFAR-10 Batch 2:  Acc: 0.429400 Loss: 1.429840\n",
      "Epoch  4, CIFAR-10 Batch 3:  Acc: 0.432400 Loss: 1.204426\n",
      "Epoch  4, CIFAR-10 Batch 4:  Acc: 0.440800 Loss: 1.433713\n",
      "Epoch  4, CIFAR-10 Batch 5:  Acc: 0.444800 Loss: 1.725058\n",
      "Epoch  5, CIFAR-10 Batch 1:  Acc: 0.450600 Loss: 1.688253\n",
      "Epoch  5, CIFAR-10 Batch 2:  Acc: 0.448800 Loss: 1.311844\n",
      "Epoch  5, CIFAR-10 Batch 3:  Acc: 0.453600 Loss: 1.128255\n",
      "Epoch  5, CIFAR-10 Batch 4:  Acc: 0.457200 Loss: 1.337231\n",
      "Epoch  5, CIFAR-10 Batch 5:  Acc: 0.455000 Loss: 1.653887\n",
      "Epoch  6, CIFAR-10 Batch 1:  Acc: 0.459600 Loss: 1.629971\n",
      "Epoch  6, CIFAR-10 Batch 2:  Acc: 0.463800 Loss: 1.221295\n",
      "Epoch  6, CIFAR-10 Batch 3:  Acc: 0.469400 Loss: 1.068307\n",
      "Epoch  6, CIFAR-10 Batch 4:  Acc: 0.471400 Loss: 1.262438\n",
      "Epoch  6, CIFAR-10 Batch 5:  Acc: 0.471200 Loss: 1.592124\n",
      "Epoch  7, CIFAR-10 Batch 1:  Acc: 0.470600 Loss: 1.577580\n",
      "Epoch  7, CIFAR-10 Batch 2:  Acc: 0.482000 Loss: 1.154829\n",
      "Epoch  7, CIFAR-10 Batch 3:  Acc: 0.482200 Loss: 1.005145\n",
      "Epoch  7, CIFAR-10 Batch 4:  Acc: 0.482000 Loss: 1.202674\n",
      "Epoch  7, CIFAR-10 Batch 5:  Acc: 0.479600 Loss: 1.519839\n",
      "Epoch  8, CIFAR-10 Batch 1:  Acc: 0.484000 Loss: 1.527340\n",
      "Epoch  8, CIFAR-10 Batch 2:  Acc: 0.492600 Loss: 1.099342\n",
      "Epoch  8, CIFAR-10 Batch 3:  Acc: 0.492400 Loss: 0.948223\n",
      "Epoch  8, CIFAR-10 Batch 4:  Acc: 0.495400 Loss: 1.145073\n",
      "Epoch  8, CIFAR-10 Batch 5:  Acc: 0.492800 Loss: 1.445299\n",
      "Epoch  9, CIFAR-10 Batch 1:  Acc: 0.497000 Loss: 1.488354\n",
      "Epoch  9, CIFAR-10 Batch 2:  Acc: 0.496200 Loss: 1.043069\n",
      "Epoch  9, CIFAR-10 Batch 3:  Acc: 0.501800 Loss: 0.906210\n",
      "Epoch  9, CIFAR-10 Batch 4:  Acc: 0.502600 Loss: 1.089170\n",
      "Epoch  9, CIFAR-10 Batch 5:  Acc: 0.501200 Loss: 1.375795\n",
      "Epoch 10, CIFAR-10 Batch 1:  Acc: 0.506600 Loss: 1.425818\n",
      "Epoch 10, CIFAR-10 Batch 2:  Acc: 0.504000 Loss: 0.995415\n",
      "Epoch 10, CIFAR-10 Batch 3:  Acc: 0.506800 Loss: 0.868938\n",
      "Epoch 10, CIFAR-10 Batch 4:  Acc: 0.511200 Loss: 1.038770\n",
      "Epoch 10, CIFAR-10 Batch 5:  Acc: 0.507800 Loss: 1.300793\n",
      "Epoch 11, CIFAR-10 Batch 1:  Acc: 0.512800 Loss: 1.356778\n",
      "Epoch 11, CIFAR-10 Batch 2:  Acc: 0.507800 Loss: 0.947850\n",
      "Epoch 11, CIFAR-10 Batch 3:  Acc: 0.515600 Loss: 0.819803\n",
      "Epoch 11, CIFAR-10 Batch 4:  Acc: 0.519800 Loss: 0.988752\n",
      "Epoch 11, CIFAR-10 Batch 5:  Acc: 0.511400 Loss: 1.239292\n",
      "Epoch 12, CIFAR-10 Batch 1:  Acc: 0.520000 Loss: 1.286120\n",
      "Epoch 12, CIFAR-10 Batch 2:  Acc: 0.513400 Loss: 0.904983\n",
      "Epoch 12, CIFAR-10 Batch 3:  Acc: 0.522600 Loss: 0.774997\n",
      "Epoch 12, CIFAR-10 Batch 4:  Acc: 0.523400 Loss: 0.944346\n",
      "Epoch 12, CIFAR-10 Batch 5:  Acc: 0.516200 Loss: 1.170680\n",
      "Epoch 13, CIFAR-10 Batch 1:  Acc: 0.524400 Loss: 1.226341\n",
      "Epoch 13, CIFAR-10 Batch 2:  Acc: 0.519600 Loss: 0.857006\n",
      "Epoch 13, CIFAR-10 Batch 3:  Acc: 0.528400 Loss: 0.745189\n",
      "Epoch 13, CIFAR-10 Batch 4:  Acc: 0.529200 Loss: 0.903084\n",
      "Epoch 13, CIFAR-10 Batch 5:  Acc: 0.520600 Loss: 1.103904\n",
      "Epoch 14, CIFAR-10 Batch 1:  Acc: 0.528800 Loss: 1.157586\n",
      "Epoch 14, CIFAR-10 Batch 2:  Acc: 0.524800 Loss: 0.811520\n",
      "Epoch 14, CIFAR-10 Batch 3:  Acc: 0.527600 Loss: 0.703599\n",
      "Epoch 14, CIFAR-10 Batch 4:  Acc: 0.529800 Loss: 0.853959\n",
      "Epoch 14, CIFAR-10 Batch 5:  Acc: 0.528800 Loss: 1.040958\n",
      "Epoch 15, CIFAR-10 Batch 1:  Acc: 0.533600 Loss: 1.087065\n",
      "Epoch 15, CIFAR-10 Batch 2:  Acc: 0.524200 Loss: 0.771587\n",
      "Epoch 15, CIFAR-10 Batch 3:  Acc: 0.532800 Loss: 0.663826\n",
      "Epoch 15, CIFAR-10 Batch 4:  Acc: 0.533800 Loss: 0.820636\n",
      "Epoch 15, CIFAR-10 Batch 5:  Acc: 0.530000 Loss: 0.983139\n",
      "Epoch 16, CIFAR-10 Batch 1:  Acc: 0.538000 Loss: 1.026112\n",
      "Epoch 16, CIFAR-10 Batch 2:  Acc: 0.528400 Loss: 0.727703\n",
      "Epoch 16, CIFAR-10 Batch 3:  Acc: 0.535600 Loss: 0.633548\n",
      "Epoch 16, CIFAR-10 Batch 4:  Acc: 0.534600 Loss: 0.773692\n",
      "Epoch 16, CIFAR-10 Batch 5:  Acc: 0.532400 Loss: 0.939118\n",
      "Epoch 17, CIFAR-10 Batch 1:  Acc: 0.541400 Loss: 0.959701\n",
      "Epoch 17, CIFAR-10 Batch 2:  Acc: 0.533200 Loss: 0.696100\n",
      "Epoch 17, CIFAR-10 Batch 3:  Acc: 0.537400 Loss: 0.602886\n",
      "Epoch 17, CIFAR-10 Batch 4:  Acc: 0.536400 Loss: 0.728567\n",
      "Epoch 17, CIFAR-10 Batch 5:  Acc: 0.533000 Loss: 0.896132\n",
      "Epoch 18, CIFAR-10 Batch 1:  Acc: 0.543400 Loss: 0.909119\n",
      "Epoch 18, CIFAR-10 Batch 2:  Acc: 0.537000 Loss: 0.657882\n",
      "Epoch 18, CIFAR-10 Batch 3:  Acc: 0.540000 Loss: 0.569504\n",
      "Epoch 18, CIFAR-10 Batch 4:  Acc: 0.539200 Loss: 0.685547\n",
      "Epoch 18, CIFAR-10 Batch 5:  Acc: 0.532000 Loss: 0.845159\n",
      "Epoch 19, CIFAR-10 Batch 1:  Acc: 0.547400 Loss: 0.842888\n",
      "Epoch 19, CIFAR-10 Batch 2:  Acc: 0.538800 Loss: 0.628208\n",
      "Epoch 19, CIFAR-10 Batch 3:  Acc: 0.543600 Loss: 0.537646\n",
      "Epoch 19, CIFAR-10 Batch 4:  Acc: 0.543600 Loss: 0.655567\n",
      "Epoch 19, CIFAR-10 Batch 5:  Acc: 0.536200 Loss: 0.802939\n",
      "Epoch 20, CIFAR-10 Batch 1:  Acc: 0.546600 Loss: 0.788255\n",
      "Epoch 20, CIFAR-10 Batch 2:  Acc: 0.540200 Loss: 0.594342\n",
      "Epoch 20, CIFAR-10 Batch 3:  Acc: 0.545600 Loss: 0.511293\n",
      "Epoch 20, CIFAR-10 Batch 4:  Acc: 0.544800 Loss: 0.616842\n",
      "Epoch 20, CIFAR-10 Batch 5:  Acc: 0.538600 Loss: 0.758500\n",
      "Epoch 21, CIFAR-10 Batch 1:  Acc: 0.550000 Loss: 0.734697\n",
      "Epoch 21, CIFAR-10 Batch 2:  Acc: 0.541000 Loss: 0.565395\n",
      "Epoch 21, CIFAR-10 Batch 3:  Acc: 0.549800 Loss: 0.483976\n",
      "Epoch 21, CIFAR-10 Batch 4:  Acc: 0.544200 Loss: 0.577881\n",
      "Epoch 21, CIFAR-10 Batch 5:  Acc: 0.542200 Loss: 0.718650\n",
      "Epoch 22, CIFAR-10 Batch 1:  Acc: 0.550000 Loss: 0.691390\n",
      "Epoch 22, CIFAR-10 Batch 2:  Acc: 0.542800 Loss: 0.536951\n",
      "Epoch 22, CIFAR-10 Batch 3:  Acc: 0.550200 Loss: 0.460352\n",
      "Epoch 22, CIFAR-10 Batch 4:  Acc: 0.548600 Loss: 0.548165\n",
      "Epoch 22, CIFAR-10 Batch 5:  Acc: 0.542400 Loss: 0.677696\n",
      "Epoch 23, CIFAR-10 Batch 1:  Acc: 0.553600 Loss: 0.651073\n",
      "Epoch 23, CIFAR-10 Batch 2:  Acc: 0.544600 Loss: 0.508062\n",
      "Epoch 23, CIFAR-10 Batch 3:  Acc: 0.551600 Loss: 0.433080\n",
      "Epoch 23, CIFAR-10 Batch 4:  Acc: 0.552400 Loss: 0.518229\n",
      "Epoch 23, CIFAR-10 Batch 5:  Acc: 0.544600 Loss: 0.638245\n",
      "Epoch 24, CIFAR-10 Batch 1:  Acc: 0.556200 Loss: 0.614884\n",
      "Epoch 24, CIFAR-10 Batch 2:  Acc: 0.546400 Loss: 0.483732\n",
      "Epoch 24, CIFAR-10 Batch 3:  Acc: 0.554200 Loss: 0.414884\n",
      "Epoch 24, CIFAR-10 Batch 4:  Acc: 0.554000 Loss: 0.487748\n",
      "Epoch 24, CIFAR-10 Batch 5:  Acc: 0.548200 Loss: 0.601187\n",
      "Epoch 25, CIFAR-10 Batch 1:  Acc: 0.558000 Loss: 0.579462\n",
      "Epoch 25, CIFAR-10 Batch 2:  Acc: 0.545800 Loss: 0.462968\n",
      "Epoch 25, CIFAR-10 Batch 3:  Acc: 0.556400 Loss: 0.393740\n",
      "Epoch 25, CIFAR-10 Batch 4:  Acc: 0.554400 Loss: 0.460227\n",
      "Epoch 25, CIFAR-10 Batch 5:  Acc: 0.550400 Loss: 0.559788\n"
     ]
    }
   ],
   "source": [
    "\"\"\"\n",
    "DON'T MODIFY ANYTHING IN THIS CELL\n",
    "\"\"\"\n",
    "save_model_path = './image_classification'\n",
    "\n",
    "print('Training...')\n",
    "with tf.Session() as sess:\n",
    "    # Initializing the variables\n",
    "    sess.run(tf.global_variables_initializer())\n",
    "    \n",
    "    # Training cycle\n",
    "    for epoch in range(epochs):\n",
    "        # Loop over all batches\n",
    "        n_batches = 5\n",
    "        for batch_i in range(1, n_batches + 1):\n",
    "            for batch_features, batch_labels in helper.load_preprocess_training_batch(batch_i, batch_size):\n",
    "                train_neural_network(sess, optimizer, keep_probability, batch_features, batch_labels)\n",
    "            print('Epoch {:>2}, CIFAR-10 Batch {}:  '.format(epoch + 1, batch_i), end='')\n",
    "            print_stats(sess, batch_features, batch_labels, cost, accuracy)\n",
    "            \n",
    "    # Save Model\n",
    "    saver = tf.train.Saver()\n",
    "    save_path = saver.save(sess, save_model_path)"
   ]
  },
  {
   "cell_type": "markdown",
   "metadata": {
    "deletable": true,
    "editable": true
   },
   "source": [
    "# Checkpoint\n",
    "The model has been saved to disk.\n",
    "## Test Model\n",
    "Test your model against the test dataset.  This will be your final accuracy. You should have an accuracy greater than 50%. If you don't, keep tweaking the model architecture and parameters."
   ]
  },
  {
   "cell_type": "code",
   "execution_count": 58,
   "metadata": {
    "collapsed": false,
    "deletable": true,
    "editable": true
   },
   "outputs": [
    {
     "name": "stdout",
     "output_type": "stream",
     "text": [
      "INFO:tensorflow:Restoring parameters from ./image_classification\n",
      "Testing Accuracy: 0.54501953125\n",
      "\n"
     ]
    },
    {
     "data": {
      "image/png": "[encoded data removed]",
      "text/plain": [
       "<matplotlib.figure.Figure at 0x11bb7feb8>"
      ]
     },
     "metadata": {
      "image/png": {
       "height": 319,
       "width": 355
      }
     },
     "output_type": "display_data"
    }
   ],
   "source": [
    "\"\"\"\n",
    "DON'T MODIFY ANYTHING IN THIS CELL\n",
    "\"\"\"\n",
    "%matplotlib inline\n",
    "%config InlineBackend.figure_format = 'retina'\n",
    "\n",
    "import tensorflow as tf\n",
    "import pickle\n",
    "import helper\n",
    "import random\n",
    "\n",
    "# Set batch size if not already set\n",
    "try:\n",
    "    if batch_size:\n",
    "        pass\n",
    "except NameError:\n",
    "    batch_size = 64\n",
    "\n",
    "save_model_path = './image_classification'\n",
    "n_samples = 4\n",
    "top_n_predictions = 3\n",
    "\n",
    "def test_model():\n",
    "    \"\"\"\n",
    "    Test the saved model against the test dataset\n",
    "    \"\"\"\n",
    "\n",
    "    test_features, test_labels = pickle.load(open('preprocess_test.p', mode='rb'))\n",
    "    loaded_graph = tf.Graph()\n",
    "\n",
    "    with tf.Session(graph=loaded_graph) as sess:\n",
    "        # Load model\n",
    "        loader = tf.train.import_meta_graph(save_model_path + '.meta')\n",
    "        loader.restore(sess, save_model_path)\n",
    "\n",
    "        # Get Tensors from loaded model\n",
    "        loaded_x = loaded_graph.get_tensor_by_name('x:0')\n",
    "        loaded_y = loaded_graph.get_tensor_by_name('y:0')\n",
    "        loaded_keep_prob = loaded_graph.get_tensor_by_name('keep_prob:0')\n",
    "        loaded_logits = loaded_graph.get_tensor_by_name('logits:0')\n",
    "        loaded_acc = loaded_graph.get_tensor_by_name('accuracy:0')\n",
    "        \n",
    "        # Get accuracy in batches for memory limitations\n",
    "        test_batch_acc_total = 0\n",
    "        test_batch_count = 0\n",
    "        \n",
    "        for test_feature_batch, test_label_batch in helper.batch_features_labels(test_features, test_labels, batch_size):\n",
    "            test_batch_acc_total += sess.run(\n",
    "                loaded_acc,\n",
    "                feed_dict={loaded_x: test_feature_batch, loaded_y: test_label_batch, loaded_keep_prob: 1.0})\n",
    "            test_batch_count += 1\n",
    "\n",
    "        print('Testing Accuracy: {}\\n'.format(test_batch_acc_total/test_batch_count))\n",
    "\n",
    "        # Print Random Samples\n",
    "        random_test_features, random_test_labels = tuple(zip(*random.sample(list(zip(test_features, test_labels)), n_samples)))\n",
    "        random_test_predictions = sess.run(\n",
    "            tf.nn.top_k(tf.nn.softmax(loaded_logits), top_n_predictions),\n",
    "            feed_dict={loaded_x: random_test_features, loaded_y: random_test_labels, loaded_keep_prob: 1.0})\n",
    "        helper.display_image_predictions(random_test_features, random_test_labels, random_test_predictions)\n",
    "\n",
    "\n",
    "test_model()"
   ]
  },
  {
   "cell_type": "markdown",
   "metadata": {
    "deletable": true,
    "editable": true
   },
   "source": [
    "## Why 50-80% Accuracy?\n",
    "You might be wondering why you can't get an accuracy any higher. First things first, 50% isn't bad for a simple CNN.  Pure guessing would get you 10% accuracy. However, you might notice people are getting scores [well above 80%](http://rodrigob.github.io/are_we_there_yet/build/classification_datasets_results.html#43494641522d3130).  That's because we haven't taught you all there is to know about neural networks. We still need to cover a few more techniques.\n",
    "## Submitting This Project\n",
    "When submitting this project, make sure to run all the cells before saving the notebook.  Save the notebook file as \"dlnd_image_classification.ipynb\" and save it as a HTML file under \"File\" -> \"Download as\".  Include the \"helper.py\" and \"problem_unittests.py\" files in your submission."
   ]
  }
 ],
 "metadata": {
  "kernelspec": {
   "display_name": "Python 3",
   "language": "python",
   "name": "python3"
  },
  "language_info": {
   "codemirror_mode": {
    "name": "ipython",
    "version": 3
   },
   "file_extension": ".py",
   "mimetype": "text/x-python",
   "name": "python",
   "nbconvert_exporter": "python",
   "pygments_lexer": "ipython3",
   "version": "3.6.0"
  }
 },
 "nbformat": 4,
 "nbformat_minor": 0
}
