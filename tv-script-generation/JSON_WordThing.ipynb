{
 "cells": [
  {
   "cell_type": "code",
   "execution_count": 1,
   "metadata": {
    "collapsed": true
   },
   "outputs": [],
   "source": [
    "import pandas as pd"
   ]
  },
  {
   "cell_type": "code",
   "execution_count": 3,
   "metadata": {
    "collapsed": false
   },
   "outputs": [],
   "source": [
    "df = pd.read_csv('/Users/saracollins/Documents/Tutorials/chatbot/ubuntu-ranking-dataset-creator/src/train.csv')"
   ]
  },
  {
   "cell_type": "code",
   "execution_count": 4,
   "metadata": {
    "collapsed": false
   },
   "outputs": [
    {
     "data": {
      "text/plain": [
       "(1000000, 3)"
      ]
     },
     "execution_count": 4,
     "metadata": {},
     "output_type": "execute_result"
    }
   ],
   "source": [
    "df.shape"
   ]
  },
  {
   "cell_type": "code",
   "execution_count": 6,
   "metadata": {
    "collapsed": false
   },
   "outputs": [
    {
     "data": {
      "text/html": [
       "<div>\n",
       "<table border=\"1\" class=\"dataframe\">\n",
       "  <thead>\n",
       "    <tr style=\"text-align: right;\">\n",
       "      <th></th>\n",
       "      <th>Context</th>\n",
       "      <th>Utterance</th>\n",
       "      <th>Label</th>\n",
       "    </tr>\n",
       "  </thead>\n",
       "  <tbody>\n",
       "    <tr>\n",
       "      <th>0</th>\n",
       "      <td>i think we could import the old comment via rs...</td>\n",
       "      <td>basic each xfree86 upload will not forc user t...</td>\n",
       "      <td>1</td>\n",
       "    </tr>\n",
       "    <tr>\n",
       "      <th>1</th>\n",
       "      <td>i 'm not suggest all - onli the one you modifi...</td>\n",
       "      <td>sorri __eou__ i think it be ubuntu relat . __e...</td>\n",
       "      <td>0</td>\n",
       "    </tr>\n",
       "    <tr>\n",
       "      <th>2</th>\n",
       "      <td>afternoon all __eou__ not entir relat to warti...</td>\n",
       "      <td>yep . __eou__ oh , okay . i wonder what happen...</td>\n",
       "      <td>0</td>\n",
       "    </tr>\n",
       "    <tr>\n",
       "      <th>3</th>\n",
       "      <td>interest __eou__ grub-instal work with / be ex...</td>\n",
       "      <td>that the one __eou__</td>\n",
       "      <td>1</td>\n",
       "    </tr>\n",
       "    <tr>\n",
       "      <th>4</th>\n",
       "      <td>and becaus python give mark a woodi __eou__ __...</td>\n",
       "      <td>( i think someon be go to make a joke about .a...</td>\n",
       "      <td>1</td>\n",
       "    </tr>\n",
       "    <tr>\n",
       "      <th>5</th>\n",
       "      <td>ooo should be there and instal by default , ye...</td>\n",
       "      <td>unrar ' __eou__ `apt-cach show unrar` __eou__</td>\n",
       "      <td>0</td>\n",
       "    </tr>\n",
       "    <tr>\n",
       "      <th>6</th>\n",
       "      <td>edd will turn up here soon too , btw __eou__ _...</td>\n",
       "      <td>you need to go out of the sleepi mode dude __e...</td>\n",
       "      <td>1</td>\n",
       "    </tr>\n",
       "    <tr>\n",
       "      <th>7</th>\n",
       "      <td>the x keyboard layout debconf thing should giv...</td>\n",
       "      <td>just rm __eou__ no __eou__</td>\n",
       "      <td>0</td>\n",
       "    </tr>\n",
       "    <tr>\n",
       "      <th>8</th>\n",
       "      <td>and becaus python give mark a woodi __eou__ __...</td>\n",
       "      <td>you on wireless ? .. __eou__</td>\n",
       "      <td>0</td>\n",
       "    </tr>\n",
       "    <tr>\n",
       "      <th>9</th>\n",
       "      <td>thank a lot ! __eou__ __eot__ you re welcom __...</td>\n",
       "      <td>be you forget the . ? ? __eou__</td>\n",
       "      <td>0</td>\n",
       "    </tr>\n",
       "    <tr>\n",
       "      <th>10</th>\n",
       "      <td>do you know about this problem ? __eou__ __eot...</td>\n",
       "      <td>unset languag &amp; &amp; lang=en_gb.utf-8 gnome-termi...</td>\n",
       "      <td>1</td>\n",
       "    </tr>\n",
       "    <tr>\n",
       "      <th>11</th>\n",
       "      <td>hum , just mail me if you want __eou__ i ll fo...</td>\n",
       "      <td>hm __eou__</td>\n",
       "      <td>1</td>\n",
       "    </tr>\n",
       "    <tr>\n",
       "      <th>12</th>\n",
       "      <td>? __eou__ in fact jdub say him that today be a...</td>\n",
       "      <td>ok __eou__ we do n't have ani gnome soft good ...</td>\n",
       "      <td>1</td>\n",
       "    </tr>\n",
       "    <tr>\n",
       "      <th>13</th>\n",
       "      <td>not too long then __eou__ check if my hous be ...</td>\n",
       "      <td>well , nautilus be n't react to ani chang in t...</td>\n",
       "      <td>1</td>\n",
       "    </tr>\n",
       "    <tr>\n",
       "      <th>14</th>\n",
       "      <td>oh , random point ... we re list as fieldwav l...</td>\n",
       "      <td># ? __eou__ sub-process /usr/bin/dpkg return a...</td>\n",
       "      <td>1</td>\n",
       "    </tr>\n",
       "  </tbody>\n",
       "</table>\n",
       "</div>"
      ],
      "text/plain": [
       "                                              Context  \\\n",
       "0   i think we could import the old comment via rs...   \n",
       "1   i 'm not suggest all - onli the one you modifi...   \n",
       "2   afternoon all __eou__ not entir relat to warti...   \n",
       "3   interest __eou__ grub-instal work with / be ex...   \n",
       "4   and becaus python give mark a woodi __eou__ __...   \n",
       "5   ooo should be there and instal by default , ye...   \n",
       "6   edd will turn up here soon too , btw __eou__ _...   \n",
       "7   the x keyboard layout debconf thing should giv...   \n",
       "8   and becaus python give mark a woodi __eou__ __...   \n",
       "9   thank a lot ! __eou__ __eot__ you re welcom __...   \n",
       "10  do you know about this problem ? __eou__ __eot...   \n",
       "11  hum , just mail me if you want __eou__ i ll fo...   \n",
       "12  ? __eou__ in fact jdub say him that today be a...   \n",
       "13  not too long then __eou__ check if my hous be ...   \n",
       "14  oh , random point ... we re list as fieldwav l...   \n",
       "\n",
       "                                            Utterance  Label  \n",
       "0   basic each xfree86 upload will not forc user t...      1  \n",
       "1   sorri __eou__ i think it be ubuntu relat . __e...      0  \n",
       "2   yep . __eou__ oh , okay . i wonder what happen...      0  \n",
       "3                                that the one __eou__      1  \n",
       "4   ( i think someon be go to make a joke about .a...      1  \n",
       "5       unrar ' __eou__ `apt-cach show unrar` __eou__      0  \n",
       "6   you need to go out of the sleepi mode dude __e...      1  \n",
       "7                          just rm __eou__ no __eou__      0  \n",
       "8                        you on wireless ? .. __eou__      0  \n",
       "9                     be you forget the . ? ? __eou__      0  \n",
       "10  unset languag & & lang=en_gb.utf-8 gnome-termi...      1  \n",
       "11                                         hm __eou__      1  \n",
       "12  ok __eou__ we do n't have ani gnome soft good ...      1  \n",
       "13  well , nautilus be n't react to ani chang in t...      1  \n",
       "14  # ? __eou__ sub-process /usr/bin/dpkg return a...      1  "
      ]
     },
     "execution_count": 6,
     "metadata": {},
     "output_type": "execute_result"
    }
   ],
   "source": [
    "df.head(15)"
   ]
  },
  {
   "cell_type": "code",
   "execution_count": 7,
   "metadata": {
    "collapsed": true
   },
   "outputs": [],
   "source": [
    "# Ew. That's no good. "
   ]
  },
  {
   "cell_type": "code",
   "execution_count": 8,
   "metadata": {
    "collapsed": true
   },
   "outputs": [],
   "source": [
    "cmv_filepath = '/Users/saracollins/Downloads/cmv/all/train_period_data.jsonlist'"
   ]
  },
  {
   "cell_type": "code",
   "execution_count": 15,
   "metadata": {
    "collapsed": true
   },
   "outputs": [],
   "source": [
    "def load_data(path):\n",
    "    \"\"\"\n",
    "    Load Dataset from File\n",
    "    \"\"\"\n",
    "    #input_file = os.path.join(path)\n",
    "    with open(path, \"rb\") as f:\n",
    "        data = f.read()\n",
    "\n",
    "    return data"
   ]
  },
  {
   "cell_type": "code",
   "execution_count": 21,
   "metadata": {
    "collapsed": false
   },
   "outputs": [],
   "source": [
    "with open(cmv_filepath, \"r\") as f:\n",
    "    data = f.readlines()"
   ]
  },
  {
   "cell_type": "code",
   "execution_count": null,
   "metadata": {
    "collapsed": false
   },
   "outputs": [],
   "source": [
    "json_items = []\n",
    "for x in data:\n",
    "    json_items.append(json.loads(x))"
   ]
  },
  {
   "cell_type": "code",
   "execution_count": null,
   "metadata": {
    "collapsed": false
   },
   "outputs": [],
   "source": [
    "json_items"
   ]
  },
  {
   "cell_type": "code",
   "execution_count": null,
   "metadata": {
    "collapsed": true
   },
   "outputs": [],
   "source": []
  }
 ],
 "metadata": {
  "anaconda-cloud": {},
  "kernelspec": {
   "display_name": "Python [default]",
   "language": "python",
   "name": "python3"
  },
  "language_info": {
   "codemirror_mode": {
    "name": "ipython",
    "version": 3
   },
   "file_extension": ".py",
   "mimetype": "text/x-python",
   "name": "python",
   "nbconvert_exporter": "python",
   "pygments_lexer": "ipython3",
   "version": "3.5.2"
  }
 },
 "nbformat": 4,
 "nbformat_minor": 2
}
